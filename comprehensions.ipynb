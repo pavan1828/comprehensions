{
 "cells": [
  {
   "cell_type": "markdown",
   "id": "286e73bc",
   "metadata": {},
   "source": [
    "# for else"
   ]
  },
  {
   "cell_type": "markdown",
   "id": "16a1933c",
   "metadata": {},
   "source": [
    "* Else block will be executed only if the loop isn't terminated by a break statement."
   ]
  },
  {
   "cell_type": "code",
   "execution_count": 5,
   "id": "959e5ffa",
   "metadata": {},
   "outputs": [
    {
     "name": "stdout",
     "output_type": "stream",
     "text": [
      "0\n",
      "1\n",
      "2\n",
      "3\n",
      "4\n",
      "5\n",
      "6\n"
     ]
    }
   ],
   "source": [
    "for ele in range(10):\n",
    "    if ele ==7:\n",
    "        break\n",
    "    print(ele)\n",
    "else:\n",
    "    print(\"Execution completed\")\n"
   ]
  },
  {
   "cell_type": "markdown",
   "id": "6f0b9b56",
   "metadata": {},
   "source": [
    "# while else"
   ]
  },
  {
   "cell_type": "markdown",
   "id": "f1795765",
   "metadata": {},
   "source": [
    "while else statement is a combination of a while loop with an else block. The while loop executes a block of code as long as its given condition remains true. Once the condition becomes false, the loop stops, and the else block is executed."
   ]
  },
  {
   "cell_type": "code",
   "execution_count": 6,
   "id": "9e179e65",
   "metadata": {},
   "outputs": [
    {
     "name": "stdout",
     "output_type": "stream",
     "text": [
      "0\n",
      "1\n",
      "2\n",
      "3\n",
      "4\n",
      "5\n",
      "6\n",
      "7\n",
      "8\n",
      "9\n",
      "zz\n"
     ]
    }
   ],
   "source": [
    "n=0\n",
    "while n in range(10):\n",
    "    print(n)\n",
    "    n+=1\n",
    "else:\n",
    "    print('zz')"
   ]
  },
  {
   "cell_type": "code",
   "execution_count": null,
   "id": "e6aec049",
   "metadata": {},
   "outputs": [],
   "source": []
  },
  {
   "cell_type": "markdown",
   "id": "be415864",
   "metadata": {},
   "source": [
    "# List Comprehensions"
   ]
  },
  {
   "cell_type": "markdown",
   "id": "fa8fe623",
   "metadata": {},
   "source": [
    "* In this method, we create a new list by manipulating the values of an existing list"
   ]
  },
  {
   "cell_type": "markdown",
   "id": "735970d9",
   "metadata": {},
   "source": [
    "syntax: list=[expression for i in list if condition]"
   ]
  },
  {
   "cell_type": "code",
   "execution_count": 1,
   "id": "5f45cec3",
   "metadata": {},
   "outputs": [
    {
     "name": "stdout",
     "output_type": "stream",
     "text": [
      "[1, 2, 3, 4, 5, 6, 7, 8, 9, 10]\n"
     ]
    }
   ],
   "source": [
    "s=[x for x in range(1,11)]\n",
    "print(s)"
   ]
  },
  {
   "cell_type": "code",
   "execution_count": 3,
   "id": "3b3902be",
   "metadata": {},
   "outputs": [
    {
     "name": "stdout",
     "output_type": "stream",
     "text": [
      "[2, 4, 6, 8, 10, 12, 14, 16, 18, 20]\n"
     ]
    }
   ],
   "source": [
    "s=[x*2 for x in range(1,11)]\n",
    "print(s)"
   ]
  },
  {
   "cell_type": "code",
   "execution_count": 4,
   "id": "620b2884",
   "metadata": {},
   "outputs": [
    {
     "data": {
      "text/plain": [
       "[0, 4, 8, 12, 16, 20]"
      ]
     },
     "execution_count": 4,
     "metadata": {},
     "output_type": "execute_result"
    }
   ],
   "source": [
    "x=[2*ele for ele in range(0,11) if ele%2 ==0]\n",
    "x"
   ]
  },
  {
   "cell_type": "markdown",
   "id": "168ddced",
   "metadata": {},
   "source": [
    "# set comprehensions"
   ]
  },
  {
   "cell_type": "markdown",
   "id": "f8beeafa",
   "metadata": {},
   "source": [
    "* We can take a similar approach as above and create new set from existing set or list\n",
    "* set comprehensions use curly brackets { }"
   ]
  },
  {
   "cell_type": "markdown",
   "id": "e7cca8d6",
   "metadata": {},
   "source": [
    "syntax:newSet= { expression for element in  iterable  if condition } "
   ]
  },
  {
   "cell_type": "code",
   "execution_count": 10,
   "id": "09ce82e1",
   "metadata": {},
   "outputs": [
    {
     "name": "stdout",
     "output_type": "stream",
     "text": [
      "{0, 1, 4, 9, 16}\n"
     ]
    }
   ],
   "source": [
    "s={x*x for x in range(5)}\n",
    "print(s)"
   ]
  },
  {
   "cell_type": "code",
   "execution_count": 9,
   "id": "1b0434ae",
   "metadata": {},
   "outputs": [
    {
     "name": "stdout",
     "output_type": "stream",
     "text": [
      "{16, 256, 64, 4}\n"
     ]
    }
   ],
   "source": [
    "s={2**x for x in range(2,10,2)}\n",
    "print(s)"
   ]
  },
  {
   "cell_type": "markdown",
   "id": "e077e2c2",
   "metadata": {},
   "source": [
    "# Dict comprehensions:"
   ]
  },
  {
   "cell_type": "markdown",
   "id": "3edb0cb6",
   "metadata": {},
   "source": [
    "* Similar to the above we can take in a list and create a dictionary from it."
   ]
  },
  {
   "cell_type": "code",
   "execution_count": 11,
   "id": "3794af90",
   "metadata": {},
   "outputs": [
    {
     "data": {
      "text/plain": [
       "{1: 'a', 11: 'b', 22: 'c'}"
      ]
     },
     "execution_count": 11,
     "metadata": {},
     "output_type": "execute_result"
    }
   ],
   "source": [
    "{key:value for key,value in zip([1,11,22],['a','b','c'])}"
   ]
  },
  {
   "cell_type": "code",
   "execution_count": 12,
   "id": "63904dc1",
   "metadata": {},
   "outputs": [
    {
     "name": "stdout",
     "output_type": "stream",
     "text": [
      "Give a string:pavan\n",
      "{0: 'p', 1: 'a', 2: 'v', 3: 'a', 4: 'n'}\n"
     ]
    }
   ],
   "source": [
    "a= input('Give a string:')\n",
    "x={key:value for key, value in enumerate(a)}\n",
    "print(x)"
   ]
  },
  {
   "cell_type": "markdown",
   "id": "b6571634",
   "metadata": {},
   "source": [
    "# zip()"
   ]
  },
  {
   "cell_type": "markdown",
   "id": "72bf537a",
   "metadata": {},
   "source": [
    "* The zip() function returns a zip object, which is an iterator of tuples where the first item in each passed iterator is paired together, and then the second item in each passed iterator are paired together etc.\n",
    "* If the passed iterables have different lengths, the iterable with the least items decides the length of the new iterator.\n",
    "\n"
   ]
  },
  {
   "cell_type": "code",
   "execution_count": 15,
   "id": "95ef0d3c",
   "metadata": {},
   "outputs": [
    {
     "data": {
      "text/plain": [
       "<zip at 0x15bc1077a00>"
      ]
     },
     "execution_count": 15,
     "metadata": {},
     "output_type": "execute_result"
    }
   ],
   "source": [
    "a,b=[1,2,3],[11,22,33]\n",
    "zip(a,b)"
   ]
  },
  {
   "cell_type": "code",
   "execution_count": 16,
   "id": "37c65f01",
   "metadata": {},
   "outputs": [
    {
     "data": {
      "text/plain": [
       "[(1, 11), (2, 22), (3, 33)]"
      ]
     },
     "execution_count": 16,
     "metadata": {},
     "output_type": "execute_result"
    }
   ],
   "source": [
    "list(zip(a,b))"
   ]
  },
  {
   "cell_type": "code",
   "execution_count": 17,
   "id": "d0976647",
   "metadata": {},
   "outputs": [
    {
     "name": "stdout",
     "output_type": "stream",
     "text": [
      "(1, 11)\n",
      "(2, 22)\n",
      "(3, 33)\n"
     ]
    }
   ],
   "source": [
    "for ele in zip([1,2,3,4],[11,22,33]):\n",
    "    print(ele)\n"
   ]
  },
  {
   "cell_type": "markdown",
   "id": "ccc6f573",
   "metadata": {},
   "source": [
    "# enumerate"
   ]
  },
  {
   "cell_type": "markdown",
   "id": "56bd4884",
   "metadata": {},
   "source": [
    "* The enumerate() function takes a collection (e.g. a tuple) and returns it as an enumerate object.\n",
    "\n",
    "* The enumerate() function adds a counter as the key of the enumerate object."
   ]
  },
  {
   "cell_type": "markdown",
   "id": "510965e7",
   "metadata": {},
   "source": [
    "syntax:enumerate(iterable, start)<br>\n",
    "    iterable -->An iterable object<br>\n",
    "start--->A Number. Defining the start number of the enumerate object. Default 0"
   ]
  },
  {
   "cell_type": "code",
   "execution_count": 18,
   "id": "5b52a41a",
   "metadata": {},
   "outputs": [
    {
     "name": "stdout",
     "output_type": "stream",
     "text": [
      "0 p\n",
      "1 a\n",
      "2 v\n",
      "3 a\n",
      "4 n\n",
      "5  \n",
      "6 k\n",
      "7 u\n",
      "8 m\n",
      "9 a\n",
      "10 r\n"
     ]
    }
   ],
   "source": [
    "x='pavan kumar'\n",
    "\n",
    "for ind,val in enumerate(x):\n",
    "    print(ind,val)"
   ]
  },
  {
   "cell_type": "code",
   "execution_count": null,
   "id": "db71266b",
   "metadata": {},
   "outputs": [],
   "source": []
  }
 ],
 "metadata": {
  "kernelspec": {
   "display_name": "Python 3 (ipykernel)",
   "language": "python",
   "name": "python3"
  },
  "language_info": {
   "codemirror_mode": {
    "name": "ipython",
    "version": 3
   },
   "file_extension": ".py",
   "mimetype": "text/x-python",
   "name": "python",
   "nbconvert_exporter": "python",
   "pygments_lexer": "ipython3",
   "version": "3.9.13"
  }
 },
 "nbformat": 4,
 "nbformat_minor": 5
}
